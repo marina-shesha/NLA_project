{
  "nbformat": 4,
  "nbformat_minor": 0,
  "metadata": {
    "colab": {
      "provenance": [],
      "gpuType": "T4"
    },
    "kernelspec": {
      "name": "python3",
      "display_name": "Python 3"
    },
    "language_info": {
      "name": "python"
    },
    "accelerator": "GPU"
  },
  "cells": [
    {
      "cell_type": "code",
      "execution_count": null,
      "metadata": {
        "id": "FD1MmcH9Eng2",
        "colab": {
          "base_uri": "https://localhost:8080/"
        },
        "outputId": "48bda3c0-8a80-4088-d2e7-156fdbae284e"
      },
      "outputs": [
        {
          "output_type": "stream",
          "name": "stdout",
          "text": [
            "Cloning into 'NLA_project'...\n",
            "remote: Enumerating objects: 292, done.\u001b[K\n",
            "remote: Counting objects: 100% (292/292), done.\u001b[K\n",
            "remote: Compressing objects: 100% (189/189), done.\u001b[K\n",
            "remote: Total 292 (delta 137), reused 240 (delta 85), pack-reused 0\u001b[K\n",
            "Receiving objects: 100% (292/292), 14.13 MiB | 12.41 MiB/s, done.\n",
            "Resolving deltas: 100% (137/137), done.\n"
          ]
        }
      ],
      "source": [
        "!git clone -b main https://github.com/marina-shesha/NLA_project.git"
      ]
    },
    {
      "cell_type": "code",
      "source": [
        "!pip install wandb"
      ],
      "metadata": {
        "colab": {
          "base_uri": "https://localhost:8080/"
        },
        "id": "00Hjx_DSLyGu",
        "outputId": "3e19a230-30f4-4bbf-c1bc-8a37bfa17996"
      },
      "execution_count": null,
      "outputs": [
        {
          "output_type": "stream",
          "name": "stdout",
          "text": [
            "Collecting wandb\n",
            "  Downloading wandb-0.16.1-py3-none-any.whl (2.1 MB)\n",
            "\u001b[2K     \u001b[90m━━━━━━━━━━━━━━━━━━━━━━━━━━━━━━━━━━━━━━━━\u001b[0m \u001b[32m2.1/2.1 MB\u001b[0m \u001b[31m6.0 MB/s\u001b[0m eta \u001b[36m0:00:00\u001b[0m\n",
            "\u001b[?25hRequirement already satisfied: Click!=8.0.0,>=7.1 in /usr/local/lib/python3.10/dist-packages (from wandb) (8.1.7)\n",
            "Collecting GitPython!=3.1.29,>=1.0.0 (from wandb)\n",
            "  Downloading GitPython-3.1.40-py3-none-any.whl (190 kB)\n",
            "\u001b[2K     \u001b[90m━━━━━━━━━━━━━━━━━━━━━━━━━━━━━━━━━━━━━━━━\u001b[0m \u001b[32m190.6/190.6 kB\u001b[0m \u001b[31m19.3 MB/s\u001b[0m eta \u001b[36m0:00:00\u001b[0m\n",
            "\u001b[?25hRequirement already satisfied: requests<3,>=2.0.0 in /usr/local/lib/python3.10/dist-packages (from wandb) (2.31.0)\n",
            "Requirement already satisfied: psutil>=5.0.0 in /usr/local/lib/python3.10/dist-packages (from wandb) (5.9.5)\n",
            "Collecting sentry-sdk>=1.0.0 (from wandb)\n",
            "  Downloading sentry_sdk-1.39.1-py2.py3-none-any.whl (254 kB)\n",
            "\u001b[2K     \u001b[90m━━━━━━━━━━━━━━━━━━━━━━━━━━━━━━━━━━━━━━━━\u001b[0m \u001b[32m254.1/254.1 kB\u001b[0m \u001b[31m26.8 MB/s\u001b[0m eta \u001b[36m0:00:00\u001b[0m\n",
            "\u001b[?25hCollecting docker-pycreds>=0.4.0 (from wandb)\n",
            "  Downloading docker_pycreds-0.4.0-py2.py3-none-any.whl (9.0 kB)\n",
            "Requirement already satisfied: PyYAML in /usr/local/lib/python3.10/dist-packages (from wandb) (6.0.1)\n",
            "Collecting setproctitle (from wandb)\n",
            "  Downloading setproctitle-1.3.3-cp310-cp310-manylinux_2_5_x86_64.manylinux1_x86_64.manylinux_2_17_x86_64.manylinux2014_x86_64.whl (30 kB)\n",
            "Requirement already satisfied: setuptools in /usr/local/lib/python3.10/dist-packages (from wandb) (67.7.2)\n",
            "Requirement already satisfied: appdirs>=1.4.3 in /usr/local/lib/python3.10/dist-packages (from wandb) (1.4.4)\n",
            "Requirement already satisfied: protobuf!=4.21.0,<5,>=3.19.0 in /usr/local/lib/python3.10/dist-packages (from wandb) (3.20.3)\n",
            "Requirement already satisfied: six>=1.4.0 in /usr/local/lib/python3.10/dist-packages (from docker-pycreds>=0.4.0->wandb) (1.16.0)\n",
            "Collecting gitdb<5,>=4.0.1 (from GitPython!=3.1.29,>=1.0.0->wandb)\n",
            "  Downloading gitdb-4.0.11-py3-none-any.whl (62 kB)\n",
            "\u001b[2K     \u001b[90m━━━━━━━━━━━━━━━━━━━━━━━━━━━━━━━━━━━━━━━━\u001b[0m \u001b[32m62.7/62.7 kB\u001b[0m \u001b[31m4.0 MB/s\u001b[0m eta \u001b[36m0:00:00\u001b[0m\n",
            "\u001b[?25hRequirement already satisfied: charset-normalizer<4,>=2 in /usr/local/lib/python3.10/dist-packages (from requests<3,>=2.0.0->wandb) (3.3.2)\n",
            "Requirement already satisfied: idna<4,>=2.5 in /usr/local/lib/python3.10/dist-packages (from requests<3,>=2.0.0->wandb) (3.6)\n",
            "Requirement already satisfied: urllib3<3,>=1.21.1 in /usr/local/lib/python3.10/dist-packages (from requests<3,>=2.0.0->wandb) (2.0.7)\n",
            "Requirement already satisfied: certifi>=2017.4.17 in /usr/local/lib/python3.10/dist-packages (from requests<3,>=2.0.0->wandb) (2023.11.17)\n",
            "Collecting smmap<6,>=3.0.1 (from gitdb<5,>=4.0.1->GitPython!=3.1.29,>=1.0.0->wandb)\n",
            "  Downloading smmap-5.0.1-py3-none-any.whl (24 kB)\n",
            "Installing collected packages: smmap, setproctitle, sentry-sdk, docker-pycreds, gitdb, GitPython, wandb\n",
            "Successfully installed GitPython-3.1.40 docker-pycreds-0.4.0 gitdb-4.0.11 sentry-sdk-1.39.1 setproctitle-1.3.3 smmap-5.0.1 wandb-0.16.1\n"
          ]
        }
      ]
    },
    {
      "cell_type": "code",
      "source": [
        "import wandb"
      ],
      "metadata": {
        "id": "p3qPBLJkG6nm"
      },
      "execution_count": null,
      "outputs": []
    },
    {
      "cell_type": "code",
      "source": [
        "wandb.login()"
      ],
      "metadata": {
        "colab": {
          "base_uri": "https://localhost:8080/",
          "height": 69
        },
        "id": "b4ywBlOtGIPP",
        "outputId": "ed587bb0-0a2c-4a55-f9a8-6956abeece43"
      },
      "execution_count": null,
      "outputs": [
        {
          "output_type": "display_data",
          "data": {
            "text/plain": [
              "<IPython.core.display.Javascript object>"
            ],
            "application/javascript": [
              "\n",
              "        window._wandbApiKey = new Promise((resolve, reject) => {\n",
              "            function loadScript(url) {\n",
              "            return new Promise(function(resolve, reject) {\n",
              "                let newScript = document.createElement(\"script\");\n",
              "                newScript.onerror = reject;\n",
              "                newScript.onload = resolve;\n",
              "                document.body.appendChild(newScript);\n",
              "                newScript.src = url;\n",
              "            });\n",
              "            }\n",
              "            loadScript(\"https://cdn.jsdelivr.net/npm/postmate/build/postmate.min.js\").then(() => {\n",
              "            const iframe = document.createElement('iframe')\n",
              "            iframe.style.cssText = \"width:0;height:0;border:none\"\n",
              "            document.body.appendChild(iframe)\n",
              "            const handshake = new Postmate({\n",
              "                container: iframe,\n",
              "                url: 'https://wandb.ai/authorize'\n",
              "            });\n",
              "            const timeout = setTimeout(() => reject(\"Couldn't auto authenticate\"), 5000)\n",
              "            handshake.then(function(child) {\n",
              "                child.on('authorize', data => {\n",
              "                    clearTimeout(timeout)\n",
              "                    resolve(data)\n",
              "                });\n",
              "            });\n",
              "            })\n",
              "        });\n",
              "    "
            ]
          },
          "metadata": {}
        },
        {
          "output_type": "stream",
          "name": "stderr",
          "text": [
            "\u001b[34m\u001b[1mwandb\u001b[0m: Appending key for api.wandb.ai to your netrc file: /root/.netrc\n"
          ]
        },
        {
          "output_type": "execute_result",
          "data": {
            "text/plain": [
              "True"
            ]
          },
          "metadata": {},
          "execution_count": 4
        }
      ]
    },
    {
      "cell_type": "code",
      "source": [
        "%cd NLA_project/rtucker/"
      ],
      "metadata": {
        "colab": {
          "base_uri": "https://localhost:8080/"
        },
        "id": "wWnuPEC2lO2h",
        "outputId": "7e378308-c259-4564-da87-731fcc147b06"
      },
      "execution_count": null,
      "outputs": [
        {
          "output_type": "stream",
          "name": "stdout",
          "text": [
            "/content/NLA_project/rtucker\n"
          ]
        }
      ]
    },
    {
      "cell_type": "code",
      "source": [
        "!ls"
      ],
      "metadata": {
        "colab": {
          "base_uri": "https://localhost:8080/"
        },
        "id": "6E07apIn5Bcy",
        "outputId": "d5280f63-9a78-4c2a-d7d2-1e5f2d980528"
      },
      "execution_count": null,
      "outputs": [
        {
          "output_type": "stream",
          "name": "stdout",
          "text": [
            "configs  data  LICENSE\tREADME.md  requirements.txt  src  train.py\n"
          ]
        }
      ]
    },
    {
      "cell_type": "code",
      "source": [
        "%cd configs"
      ],
      "metadata": {
        "colab": {
          "base_uri": "https://localhost:8080/"
        },
        "id": "Xm70tXp-5FBa",
        "outputId": "7f1e9955-2f53-441d-8543-a1f4199cd792"
      },
      "execution_count": null,
      "outputs": [
        {
          "output_type": "stream",
          "name": "stdout",
          "text": [
            "/content/NLA_project/rtucker/configs\n"
          ]
        }
      ]
    },
    {
      "cell_type": "code",
      "source": [
        "!ls"
      ],
      "metadata": {
        "colab": {
          "base_uri": "https://localhost:8080/"
        },
        "id": "q08V4P5k5KOe",
        "outputId": "7da907a6-6ff5-45a7-f25b-696fd057d708"
      },
      "execution_count": null,
      "outputs": [
        {
          "output_type": "stream",
          "name": "stdout",
          "text": [
            "base_config.py\n"
          ]
        }
      ]
    },
    {
      "cell_type": "code",
      "source": [
        "%load base_config.py"
      ],
      "metadata": {
        "id": "V_dVHZeQJydM"
      },
      "execution_count": null,
      "outputs": []
    },
    {
      "cell_type": "code",
      "source": [
        "!python train.py --mode symmetric --optim adamr"
      ],
      "metadata": {
        "colab": {
          "base_uri": "https://localhost:8080/"
        },
        "id": "2rkN0UNIF1g3",
        "outputId": "fca10f1f-39f4-4d52-e29e-09fbb1f8aa1e"
      },
      "execution_count": null,
      "outputs": [
        {
          "output_type": "stream",
          "name": "stdout",
          "text": [
            "/usr/local/lib/python3.10/dist-packages/torch/utils/data/dataloader.py:557: UserWarning: This DataLoader will create 6 worker processes in total. Our suggested max number of worker in current system is 2, which is smaller than what this DataLoader is going to create. Please be aware that excessive worker creation might get DataLoader running slow or even freeze, lower the worker number to avoid potential slowness/freeze if necessary.\n",
            "  warnings.warn(_create_warning_msg(\n",
            "\u001b[34m\u001b[1mwandb\u001b[0m: Currently logged in as: \u001b[33mmardanshin-kamil\u001b[0m. Use \u001b[1m`wandb login --relogin`\u001b[0m to force relogin\n",
            "\u001b[34m\u001b[1mwandb\u001b[0m: \u001b[33mWARNING\u001b[0m Path wandb_logs/wandb/ wasn't writable, using system temp directory.\n",
            "\u001b[34m\u001b[1mwandb\u001b[0m: Tracking run with wandb version 0.16.1\n",
            "\u001b[34m\u001b[1mwandb\u001b[0m: Run data is saved locally in \u001b[35m\u001b[1m/tmp/wandb/run-20231218_201439-qbsrerfg\u001b[0m\n",
            "\u001b[34m\u001b[1mwandb\u001b[0m: Run \u001b[1m`wandb offline`\u001b[0m to turn off syncing.\n",
            "\u001b[34m\u001b[1mwandb\u001b[0m: Syncing run \u001b[33madamw\u001b[0m\n",
            "\u001b[34m\u001b[1mwandb\u001b[0m: ⭐️ View project at \u001b[34m\u001b[4mhttps://wandb.ai/mardanshin-kamil/nla%20preso\u001b[0m\n",
            "\u001b[34m\u001b[1mwandb\u001b[0m: 🚀 View run at \u001b[34m\u001b[4mhttps://wandb.ai/mardanshin-kamil/nla%20preso/runs/qbsrerfg\u001b[0m\n",
            "  0% 0/69 [00:00<?, ?it/s]/usr/local/lib/python3.10/dist-packages/torch/utils/data/dataloader.py:557: UserWarning: This DataLoader will create 6 worker processes in total. Our suggested max number of worker in current system is 2, which is smaller than what this DataLoader is going to create. Please be aware that excessive worker creation might get DataLoader running slow or even freeze, lower the worker number to avoid potential slowness/freeze if necessary.\n",
            "  warnings.warn(_create_warning_msg(\n",
            "100% 69/69 [00:06<00:00,  9.95it/s]\n",
            "tensor([0.5834], device='cuda:0'),\ttensor([3.0027e-05], device='cuda:0'): 100% 292/292 [01:08<00:00,  4.24it/s]\n",
            "  0% 0/69 [00:00<?, ?it/s]/usr/local/lib/python3.10/dist-packages/torch/utils/data/dataloader.py:557: UserWarning: This DataLoader will create 6 worker processes in total. Our suggested max number of worker in current system is 2, which is smaller than what this DataLoader is going to create. Please be aware that excessive worker creation might get DataLoader running slow or even freeze, lower the worker number to avoid potential slowness/freeze if necessary.\n",
            "  warnings.warn(_create_warning_msg(\n",
            "100% 69/69 [00:06<00:00, 11.20it/s]\n",
            "100% 80/80 [00:05<00:00, 14.24it/s]\n",
            "tensor([0.3260], device='cuda:0'),\ttensor([2.0033e-05], device='cuda:0'): 100% 292/292 [01:12<00:00,  4.01it/s]\n",
            "100% 69/69 [00:06<00:00, 10.63it/s]\n",
            "100% 80/80 [00:05<00:00, 14.35it/s]\n",
            "tensor([0.1993], device='cuda:0'),\ttensor([1.2965e-05], device='cuda:0'): 100% 292/292 [01:09<00:00,  4.21it/s]\n",
            "100% 69/69 [00:04<00:00, 14.00it/s]\n",
            "100% 80/80 [00:07<00:00, 10.84it/s]\n",
            "tensor([0.1409], device='cuda:0'),\ttensor([9.2132e-06], device='cuda:0'): 100% 292/292 [01:07<00:00,  4.34it/s]\n",
            "100% 69/69 [00:05<00:00, 11.90it/s]\n",
            "100% 80/80 [00:05<00:00, 14.40it/s]\n",
            "tensor([0.1082], device='cuda:0'),\ttensor([7.1404e-06], device='cuda:0'): 100% 292/292 [01:07<00:00,  4.34it/s]\n",
            "100% 69/69 [00:04<00:00, 14.41it/s]\n",
            "100% 80/80 [00:09<00:00,  8.40it/s]\n",
            "tensor([0.0872], device='cuda:0'),\ttensor([5.8577e-06], device='cuda:0'): 100% 292/292 [01:07<00:00,  4.32it/s]\n",
            "100% 69/69 [00:04<00:00, 13.84it/s]\n",
            "100% 80/80 [00:06<00:00, 12.07it/s]\n",
            "tensor([0.0725], device='cuda:0'),\ttensor([4.9648e-06], device='cuda:0'): 100% 292/292 [01:06<00:00,  4.36it/s]\n",
            "100% 69/69 [00:06<00:00, 10.44it/s]\n",
            "100% 80/80 [00:05<00:00, 14.23it/s]\n",
            "tensor([0.0614], device='cuda:0'),\ttensor([4.3049e-06], device='cuda:0'): 100% 292/292 [01:06<00:00,  4.40it/s]\n",
            "100% 69/69 [00:04<00:00, 13.80it/s]\n",
            "100% 80/80 [00:06<00:00, 12.57it/s]\n",
            "tensor([0.0529], device='cuda:0'),\ttensor([3.7884e-06], device='cuda:0'): 100% 292/292 [01:07<00:00,  4.35it/s]\n",
            "100% 69/69 [00:06<00:00, 10.41it/s]\n",
            "100% 80/80 [00:05<00:00, 13.91it/s]\n",
            "tensor([0.0462], device='cuda:0'),\ttensor([3.3718e-06], device='cuda:0'): 100% 292/292 [01:06<00:00,  4.41it/s]\n",
            "100% 69/69 [00:04<00:00, 14.13it/s]\n",
            "100% 80/80 [00:06<00:00, 12.31it/s]\n",
            "tensor([0.0407], device='cuda:0'),\ttensor([3.0252e-06], device='cuda:0'): 100% 292/292 [01:06<00:00,  4.37it/s]\n",
            "100% 69/69 [00:06<00:00, 11.47it/s]\n",
            "100% 80/80 [00:06<00:00, 12.95it/s]\n",
            "tensor([0.0362], device='cuda:0'),\ttensor([2.7334e-06], device='cuda:0'): 100% 292/292 [01:06<00:00,  4.41it/s]\n",
            "100% 69/69 [00:04<00:00, 14.33it/s]\n",
            "100% 80/80 [00:05<00:00, 13.72it/s]\n",
            "tensor([0.0325], device='cuda:0'),\ttensor([2.4823e-06], device='cuda:0'): 100% 292/292 [01:06<00:00,  4.39it/s]\n",
            "100% 69/69 [00:05<00:00, 12.52it/s]\n",
            "100% 80/80 [00:06<00:00, 12.50it/s]\n",
            "tensor([0.0293], device='cuda:0'),\ttensor([2.2672e-06], device='cuda:0'): 100% 292/292 [01:06<00:00,  4.41it/s]\n",
            "100% 69/69 [00:05<00:00, 13.59it/s]\n",
            "100% 80/80 [00:05<00:00, 14.51it/s]\n",
            "tensor([0.0267], device='cuda:0'),\ttensor([2.0813e-06], device='cuda:0'): 100% 292/292 [01:06<00:00,  4.36it/s]\n",
            "100% 69/69 [00:05<00:00, 12.95it/s]\n",
            "100% 80/80 [00:06<00:00, 12.53it/s]\n",
            "\u001b[34m\u001b[1mwandb\u001b[0m:                                                                                \n",
            "\u001b[34m\u001b[1mwandb\u001b[0m: \n",
            "\u001b[34m\u001b[1mwandb\u001b[0m: Run history:\n",
            "\u001b[34m\u001b[1mwandb\u001b[0m:   epoch_time ▄█▄▂▂▃▂▁▂▁▂▁▁▁▂\n",
            "\u001b[34m\u001b[1mwandb\u001b[0m:    eval_time ▁▁▄▁█▃▁▂▁▃▂▂▃▁▃\n",
            "\u001b[34m\u001b[1mwandb\u001b[0m:    grad_norm █▅▄▃▂▂▂▂▁▁▁▁▁▁▁\n",
            "\u001b[34m\u001b[1mwandb\u001b[0m:           lr █▇▇▆▅▅▄▄▃▃▂▂▂▁▁\n",
            "\u001b[34m\u001b[1mwandb\u001b[0m:    reg_coeff █▅▄▃▂▂▁▁▁▁▁▁▁▁▁\n",
            "\u001b[34m\u001b[1mwandb\u001b[0m:  test_hits@1 ▁▁▂▄▆▇▇▇▇▇▇▇███\n",
            "\u001b[34m\u001b[1mwandb\u001b[0m: test_hits@10 ▁▁▂▃▄▄▅▆▆▆▇▇▇██\n",
            "\u001b[34m\u001b[1mwandb\u001b[0m:  test_hits@3 ▁▁▂▄▅▆▇▇▇▇▇████\n",
            "\u001b[34m\u001b[1mwandb\u001b[0m:    test_loss █▅▄▃▃▃▂▂▂▂▁▁▁▁▁\n",
            "\u001b[34m\u001b[1mwandb\u001b[0m:     test_mrr ▁▁▂▃▄▅▆▆▆▇▇▇███\n",
            "\u001b[34m\u001b[1mwandb\u001b[0m:   train_loss █▅▃▂▂▂▂▁▁▁▁▁▁▁▁\n",
            "\u001b[34m\u001b[1mwandb\u001b[0m:   val_hits@1 ▁▁▂▄▆▆▇▇▇▇▇▇███\n",
            "\u001b[34m\u001b[1mwandb\u001b[0m:  val_hits@10 ▁▁▂▃▄▄▅▆▆▆▇▇▇██\n",
            "\u001b[34m\u001b[1mwandb\u001b[0m:   val_hits@3 ▁▁▂▄▅▆▇▇▇▇▇████\n",
            "\u001b[34m\u001b[1mwandb\u001b[0m:     val_loss █▅▄▃▃▃▂▂▂▂▁▁▁▁▁\n",
            "\u001b[34m\u001b[1mwandb\u001b[0m:      val_mrr ▁▁▂▃▄▅▆▆▆▇▇▇███\n",
            "\u001b[34m\u001b[1mwandb\u001b[0m: \n",
            "\u001b[34m\u001b[1mwandb\u001b[0m: Run summary:\n",
            "\u001b[34m\u001b[1mwandb\u001b[0m:   epoch_time 66.98215\n",
            "\u001b[34m\u001b[1mwandb\u001b[0m:    eval_time 6.38728\n",
            "\u001b[34m\u001b[1mwandb\u001b[0m:    grad_norm 0.0\n",
            "\u001b[34m\u001b[1mwandb\u001b[0m:           lr 706.73183\n",
            "\u001b[34m\u001b[1mwandb\u001b[0m:    reg_coeff 0.0\n",
            "\u001b[34m\u001b[1mwandb\u001b[0m:  test_hits@1 0.02299\n",
            "\u001b[34m\u001b[1mwandb\u001b[0m: test_hits@10 0.14202\n",
            "\u001b[34m\u001b[1mwandb\u001b[0m:  test_hits@3 0.05761\n",
            "\u001b[34m\u001b[1mwandb\u001b[0m:    test_loss 0.11867\n",
            "\u001b[34m\u001b[1mwandb\u001b[0m:     test_mrr 0.06077\n",
            "\u001b[34m\u001b[1mwandb\u001b[0m:   train_loss 0.02667\n",
            "\u001b[34m\u001b[1mwandb\u001b[0m:   val_hits@1 0.02407\n",
            "\u001b[34m\u001b[1mwandb\u001b[0m:  val_hits@10 0.13929\n",
            "\u001b[34m\u001b[1mwandb\u001b[0m:   val_hits@3 0.0586\n",
            "\u001b[34m\u001b[1mwandb\u001b[0m:     val_loss 0.12023\n",
            "\u001b[34m\u001b[1mwandb\u001b[0m:      val_mrr 0.06092\n",
            "\u001b[34m\u001b[1mwandb\u001b[0m: \n",
            "\u001b[34m\u001b[1mwandb\u001b[0m: 🚀 View run \u001b[33madamw\u001b[0m at: \u001b[34m\u001b[4mhttps://wandb.ai/mardanshin-kamil/nla%20preso/runs/qbsrerfg\u001b[0m\n",
            "\u001b[34m\u001b[1mwandb\u001b[0m: Synced 5 W&B file(s), 0 media file(s), 0 artifact file(s) and 0 other file(s)\n",
            "\u001b[34m\u001b[1mwandb\u001b[0m: Find logs at: \u001b[35m\u001b[1m/tmp/wandb/run-20231218_201439-qbsrerfg/logs\u001b[0m\n",
            "Final loss value:\ttensor([0.1187], device='cuda:0')\n",
            "Final mrr value:\t0.060770664608374866\n",
            "Final hits@1 value:\t0.022989348187237368\n",
            "Final hits@3 value:\t0.05760773966578716\n",
            "Final hits@10 value:\t0.1420160265806704\n"
          ]
        }
      ]
    },
    {
      "cell_type": "code",
      "source": [
        "%%writefile base_config.py\n",
        "from dataclasses import dataclass\n",
        "from typing import Union\n",
        "\n",
        "from src.utils.storage import StateDict\n",
        "\n",
        "\n",
        "@dataclass\n",
        "class TrainConfig:\n",
        "    train_batch_size = 512\n",
        "    eval_batch_size = 512\n",
        "\n",
        "    num_epoches = 50\n",
        "    momentum_beta = 0.9\n",
        "    rmsprop_beta = 0.999\n",
        "    label_smoothig = 0.1\n",
        "    learning_rate = 2000\n",
        "    scheduler_step = 0.933\n",
        "\n",
        "    base_regularization_coeff = 1e-8\n",
        "    final_regularization_coeff = 1e-14\n",
        "    coeff_adjusting_policy = \"exp\"\n",
        "    num_regularizer_decreasing_steps = 30\n",
        "\n",
        "    checkpoint_path = \"checkpoints/\"\n",
        "\n",
        "    def to_dict(self):\n",
        "        return {\n",
        "            \"train_batch_size\": self.train_batch_size,\n",
        "            \"eval_batch_size\": self.eval_batch_size,\n",
        "            \"num_epoches\": self.num_epoches,\n",
        "            \"learning_rate\": self.learning_rate,\n",
        "            \"momentum_beta\": self.momentum_beta,\n",
        "            \"label_smoothig\": self.label_smoothig,\n",
        "        }\n",
        "\n",
        "\n",
        "@dataclass\n",
        "class TuneConfig:\n",
        "    num_tunning_runs = 5\n",
        "    num_run_epochs = 30\n",
        "\n",
        "    relation_rank_inc = 0\n",
        "    entity_rank_inc = 1\n",
        "\n",
        "    def to_dict(self):\n",
        "        return {\n",
        "            \"num_tunning_runs\": self.num_tunning_runs,\n",
        "            \"num_run_epochs\": self.num_run_epochs,\n",
        "            \"relation_rank_inc\": self.relation_rank_inc,\n",
        "            \"entity_rank_inc\": self.entity_rank_inc,\n",
        "        }\n",
        "\n",
        "@dataclass\n",
        "class ModelConfig:\n",
        "    manifold_rank = (10, 200, 200)\n",
        "\n",
        "    use_pretrained = False\n",
        "    pretrained_path = \"./checkpoints/rk_20_903\"\n",
        "\n",
        "    def to_dict(self):\n",
        "        return {\n",
        "            \"manifold_rank\": self.manifold_rank,\n",
        "            \"use_pretrained\": self.use_pretrained,\n",
        "            \"pretrained_path\": self.pretrained_path\n",
        "        }\n",
        "\n",
        "\n",
        "@dataclass\n",
        "class LogConfig:\n",
        "    project_name = \"GraphCompletion\"\n",
        "    entity_name = \"themathstudent\"\n",
        "    run_name = \"(200, 20) 10, 5 tune\"\n",
        "    log_dir = \"wandb_logs\"\n",
        "\n",
        "    watch_log_freq = 500\n",
        "    watch_log = \"all\"\n",
        "\n",
        "\n",
        "@dataclass\n",
        "class Config:\n",
        "    train_cfg = TrainConfig()\n",
        "    model_cfg = ModelConfig()\n",
        "    log_cfg = LogConfig()\n",
        "    tune_cfg = TuneConfig()\n",
        "\n",
        "    state_dict: Union[None, StateDict]\n",
        "\n"
      ],
      "metadata": {
        "id": "EAEvHg6sDkLA",
        "colab": {
          "base_uri": "https://localhost:8080/"
        },
        "outputId": "234da602-ff9c-4e08-a84e-47d77615919a"
      },
      "execution_count": null,
      "outputs": [
        {
          "output_type": "stream",
          "name": "stdout",
          "text": [
            "Overwriting base_config.py\n"
          ]
        }
      ]
    },
    {
      "cell_type": "code",
      "source": [
        "%cd"
      ],
      "metadata": {
        "colab": {
          "base_uri": "https://localhost:8080/"
        },
        "id": "ghmJS5ieKBka",
        "outputId": "22c5d3d9-78d9-444c-a02f-29bc58b38b68"
      },
      "execution_count": null,
      "outputs": [
        {
          "output_type": "stream",
          "name": "stdout",
          "text": [
            "/root\n"
          ]
        }
      ]
    },
    {
      "cell_type": "code",
      "source": [
        "%cd /content/NLA_project/rtucker"
      ],
      "metadata": {
        "colab": {
          "base_uri": "https://localhost:8080/"
        },
        "id": "9prG335RKOWH",
        "outputId": "82b74426-3384-4cc2-b6d5-07f2a3c89c3b"
      },
      "execution_count": null,
      "outputs": [
        {
          "output_type": "stream",
          "name": "stdout",
          "text": [
            "/content/NLA_project/rtucker\n"
          ]
        }
      ]
    },
    {
      "cell_type": "code",
      "source": [
        "!ls"
      ],
      "metadata": {
        "colab": {
          "base_uri": "https://localhost:8080/"
        },
        "id": "9l4pfjn4KWdG",
        "outputId": "579518cc-528c-4dad-d758-4c3846dae4f5"
      },
      "execution_count": null,
      "outputs": [
        {
          "output_type": "stream",
          "name": "stdout",
          "text": [
            "configs  data  LICENSE\tREADME.md  requirements.txt  src  train.py\n"
          ]
        }
      ]
    },
    {
      "cell_type": "code",
      "source": [
        "!python train.py --mode symmetric --optim rmsprop"
      ],
      "metadata": {
        "colab": {
          "base_uri": "https://localhost:8080/"
        },
        "id": "NubsXP3NKX6o",
        "outputId": "a8e12b30-e45f-4494-dd99-a56886b5663f"
      },
      "execution_count": null,
      "outputs": [
        {
          "output_type": "stream",
          "name": "stdout",
          "text": [
            "/usr/local/lib/python3.10/dist-packages/torch/utils/data/dataloader.py:557: UserWarning: This DataLoader will create 6 worker processes in total. Our suggested max number of worker in current system is 2, which is smaller than what this DataLoader is going to create. Please be aware that excessive worker creation might get DataLoader running slow or even freeze, lower the worker number to avoid potential slowness/freeze if necessary.\n",
            "  warnings.warn(_create_warning_msg(\n",
            "\u001b[34m\u001b[1mwandb\u001b[0m: Currently logged in as: \u001b[33mthemathstudent\u001b[0m. Use \u001b[1m`wandb login --relogin`\u001b[0m to force relogin\n",
            "\u001b[34m\u001b[1mwandb\u001b[0m: \u001b[33mWARNING\u001b[0m Path wandb_logs/wandb/ wasn't writable, using system temp directory.\n",
            "\u001b[34m\u001b[1mwandb\u001b[0m: Tracking run with wandb version 0.16.1\n",
            "\u001b[34m\u001b[1mwandb\u001b[0m: Run data is saved locally in \u001b[35m\u001b[1m/tmp/wandb/run-20231218_182342-ryekxk1y\u001b[0m\n",
            "\u001b[34m\u001b[1mwandb\u001b[0m: Run \u001b[1m`wandb offline`\u001b[0m to turn off syncing.\n",
            "\u001b[34m\u001b[1mwandb\u001b[0m: Syncing run \u001b[33m(200, 20) 10, 5 tune\u001b[0m\n",
            "\u001b[34m\u001b[1mwandb\u001b[0m: ⭐️ View project at \u001b[34m\u001b[4mhttps://wandb.ai/themathstudent/GraphCompletion\u001b[0m\n",
            "\u001b[34m\u001b[1mwandb\u001b[0m: 🚀 View run at \u001b[34m\u001b[4mhttps://wandb.ai/themathstudent/GraphCompletion/runs/ryekxk1y\u001b[0m\n",
            "  0% 0/69 [00:00<?, ?it/s]/usr/local/lib/python3.10/dist-packages/torch/utils/data/dataloader.py:557: UserWarning: This DataLoader will create 6 worker processes in total. Our suggested max number of worker in current system is 2, which is smaller than what this DataLoader is going to create. Please be aware that excessive worker creation might get DataLoader running slow or even freeze, lower the worker number to avoid potential slowness/freeze if necessary.\n",
            "  warnings.warn(_create_warning_msg(\n",
            "100% 69/69 [00:08<00:00,  8.35it/s]\n",
            "tensor([0.3863], device='cuda:0'),\ttensor([1.8924e-05], device='cuda:0'): 100% 292/292 [01:01<00:00,  4.72it/s]\n",
            "100% 69/69 [00:04<00:00, 13.84it/s]\n",
            "100% 80/80 [00:08<00:00,  9.43it/s]\n",
            "  0% 0/292 [00:00<?, ?it/s]/usr/local/lib/python3.10/dist-packages/torch/utils/data/dataloader.py:557: UserWarning: This DataLoader will create 6 worker processes in total. Our suggested max number of worker in current system is 2, which is smaller than what this DataLoader is going to create. Please be aware that excessive worker creation might get DataLoader running slow or even freeze, lower the worker number to avoid potential slowness/freeze if necessary.\n",
            "  warnings.warn(_create_warning_msg(\n",
            "tensor([0.1351], device='cuda:0'),\ttensor([8.8322e-06], device='cuda:0'): 100% 292/292 [01:04<00:00,  4.51it/s]\n",
            "100% 69/69 [00:06<00:00, 10.91it/s]\n",
            "100% 80/80 [00:06<00:00, 11.85it/s]\n",
            "tensor([0.0859], device='cuda:0'),\ttensor([6.1361e-06], device='cuda:0'): 100% 292/292 [01:05<00:00,  4.49it/s]\n",
            "100% 69/69 [00:06<00:00, 10.46it/s]\n",
            "100% 80/80 [00:09<00:00,  8.08it/s]\n",
            "tensor([0.0629], device='cuda:0'),\ttensor([4.7485e-06], device='cuda:0'): 100% 292/292 [01:04<00:00,  4.52it/s]\n",
            "100% 69/69 [00:05<00:00, 13.35it/s]\n",
            "100% 80/80 [00:07<00:00, 10.04it/s]\n",
            "tensor([0.0492], device='cuda:0'),\ttensor([3.8649e-06], device='cuda:0'): 100% 292/292 [01:04<00:00,  4.51it/s]\n",
            "100% 69/69 [00:07<00:00,  9.50it/s]\n",
            "100% 80/80 [00:06<00:00, 13.09it/s]\n",
            "tensor([0.0402], device='cuda:0'),\ttensor([3.2461e-06], device='cuda:0'): 100% 292/292 [01:03<00:00,  4.60it/s]\n",
            "100% 69/69 [00:06<00:00, 10.91it/s]\n",
            "100% 80/80 [00:05<00:00, 13.61it/s]\n",
            "tensor([0.0337], device='cuda:0'),\ttensor([2.7824e-06], device='cuda:0'): 100% 292/292 [01:03<00:00,  4.57it/s]\n",
            "100% 69/69 [00:04<00:00, 14.13it/s]\n",
            "100% 80/80 [00:07<00:00, 11.05it/s]\n",
            "tensor([0.0288], device='cuda:0'),\ttensor([2.4185e-06], device='cuda:0'): 100% 292/292 [01:01<00:00,  4.75it/s]\n",
            "100% 69/69 [00:04<00:00, 13.94it/s]\n",
            "100% 80/80 [00:07<00:00, 10.66it/s]\n",
            "tensor([0.0250], device='cuda:0'),\ttensor([2.1251e-06], device='cuda:0'): 100% 292/292 [01:01<00:00,  4.78it/s]\n",
            "100% 69/69 [00:04<00:00, 14.07it/s]\n",
            "100% 80/80 [00:07<00:00, 10.76it/s]\n",
            "tensor([0.0220], device='cuda:0'),\ttensor([1.8838e-06], device='cuda:0'): 100% 292/292 [01:01<00:00,  4.74it/s]\n",
            "100% 69/69 [00:05<00:00, 13.12it/s]\n",
            "100% 80/80 [00:06<00:00, 12.53it/s]\n",
            "tensor([0.0196], device='cuda:0'),\ttensor([1.6831e-06], device='cuda:0'): 100% 292/292 [01:02<00:00,  4.68it/s]\n",
            "100% 69/69 [00:05<00:00, 12.10it/s]\n",
            "100% 80/80 [00:06<00:00, 13.06it/s]\n",
            "tensor([0.0176], device='cuda:0'),\ttensor([1.5120e-06], device='cuda:0'): 100% 292/292 [01:02<00:00,  4.70it/s]\n",
            "100% 69/69 [00:06<00:00, 10.34it/s]\n",
            "100% 80/80 [00:05<00:00, 14.39it/s]\n",
            "tensor([0.0159], device='cuda:0'),\ttensor([1.3676e-06], device='cuda:0'): 100% 292/292 [01:02<00:00,  4.68it/s]\n",
            "100% 69/69 [00:06<00:00, 10.85it/s]\n",
            "100% 80/80 [00:05<00:00, 14.43it/s]\n",
            "tensor([0.0144], device='cuda:0'),\ttensor([1.2422e-06], device='cuda:0'): 100% 292/292 [01:02<00:00,  4.65it/s]\n",
            "100% 69/69 [00:04<00:00, 14.13it/s]\n",
            "100% 80/80 [00:06<00:00, 12.38it/s]\n",
            "tensor([0.0132], device='cuda:0'),\ttensor([1.1336e-06], device='cuda:0'): 100% 292/292 [01:03<00:00,  4.62it/s]\n",
            "100% 69/69 [00:04<00:00, 13.83it/s]\n",
            "100% 80/80 [00:07<00:00, 10.43it/s]\n",
            "tensor([0.0121], device='cuda:0'),\ttensor([1.0384e-06], device='cuda:0'): 100% 292/292 [01:02<00:00,  4.65it/s]\n",
            "100% 69/69 [00:06<00:00, 10.76it/s]\n",
            "100% 80/80 [00:05<00:00, 13.60it/s]\n",
            "tensor([0.0112], device='cuda:0'),\ttensor([9.5571e-07], device='cuda:0'): 100% 292/292 [01:02<00:00,  4.64it/s]\n",
            "100% 69/69 [00:06<00:00, 11.49it/s]\n",
            "100% 80/80 [00:05<00:00, 13.87it/s]\n",
            "tensor([0.0104], device='cuda:0'),\ttensor([8.8200e-07], device='cuda:0'): 100% 292/292 [01:03<00:00,  4.62it/s]\n",
            "100% 69/69 [00:04<00:00, 14.31it/s]\n",
            "100% 80/80 [00:06<00:00, 12.58it/s]\n",
            "tensor([0.0096], device='cuda:0'),\ttensor([8.1771e-07], device='cuda:0'): 100% 292/292 [01:04<00:00,  4.53it/s]\n",
            "100% 69/69 [00:04<00:00, 14.27it/s]\n",
            "100% 80/80 [00:07<00:00, 10.74it/s]\n",
            "tensor([0.0090], device='cuda:0'),\ttensor([7.5992e-07], device='cuda:0'): 100% 292/292 [01:03<00:00,  4.57it/s]\n",
            "100% 69/69 [00:06<00:00, 11.14it/s]\n",
            "100% 80/80 [00:06<00:00, 12.63it/s]\n",
            "tensor([0.0084], device='cuda:0'),\ttensor([7.0954e-07], device='cuda:0'): 100% 292/292 [01:04<00:00,  4.56it/s]\n",
            "100% 69/69 [00:05<00:00, 12.62it/s]\n",
            "100% 80/80 [00:05<00:00, 14.22it/s]\n",
            "tensor([0.0079], device='cuda:0'),\ttensor([6.6379e-07], device='cuda:0'): 100% 292/292 [01:04<00:00,  4.52it/s]\n",
            "100% 69/69 [00:04<00:00, 14.42it/s]\n",
            "100% 80/80 [00:07<00:00, 10.89it/s]\n",
            "tensor([0.0075], device='cuda:0'),\ttensor([6.2330e-07], device='cuda:0'): 100% 292/292 [01:04<00:00,  4.54it/s]\n",
            "100% 69/69 [00:06<00:00, 11.09it/s]\n",
            "100% 80/80 [00:05<00:00, 13.50it/s]\n",
            "tensor([0.0071], device='cuda:0'),\ttensor([5.8588e-07], device='cuda:0'): 100% 292/292 [01:04<00:00,  4.52it/s]\n",
            "100% 69/69 [00:05<00:00, 12.52it/s]\n",
            "100% 80/80 [00:05<00:00, 14.27it/s]\n",
            "tensor([0.0067], device='cuda:0'),\ttensor([5.5315e-07], device='cuda:0'): 100% 292/292 [01:04<00:00,  4.50it/s]\n",
            "100% 69/69 [00:04<00:00, 13.84it/s]\n",
            "100% 80/80 [00:07<00:00, 10.90it/s]\n",
            "tensor([0.0064], device='cuda:0'),\ttensor([5.2399e-07], device='cuda:0'): 100% 292/292 [01:04<00:00,  4.54it/s]\n",
            "100% 69/69 [00:06<00:00, 10.45it/s]\n",
            "100% 80/80 [00:05<00:00, 14.38it/s]\n",
            "tensor([0.0061], device='cuda:0'),\ttensor([4.9742e-07], device='cuda:0'): 100% 292/292 [01:05<00:00,  4.49it/s]\n",
            "100% 69/69 [00:05<00:00, 11.97it/s]\n",
            "100% 80/80 [00:05<00:00, 14.29it/s]\n",
            "tensor([0.0058], device='cuda:0'),\ttensor([4.7287e-07], device='cuda:0'): 100% 292/292 [01:04<00:00,  4.51it/s]\n",
            "100% 69/69 [00:04<00:00, 14.43it/s]\n",
            "100% 80/80 [00:06<00:00, 11.76it/s]\n",
            "tensor([0.0056], device='cuda:0'),\ttensor([4.5148e-07], device='cuda:0'): 100% 292/292 [01:04<00:00,  4.51it/s]\n",
            "100% 69/69 [00:05<00:00, 11.78it/s]\n",
            "100% 80/80 [00:06<00:00, 12.85it/s]\n",
            "tensor([0.0054], device='cuda:0'),\ttensor([4.3195e-07], device='cuda:0'): 100% 292/292 [01:04<00:00,  4.50it/s]\n",
            "100% 69/69 [00:05<00:00, 12.76it/s]\n",
            "100% 80/80 [00:05<00:00, 14.65it/s]\n",
            "tensor([0.0052], device='cuda:0'),\ttensor([4.1431e-07], device='cuda:0'): 100% 292/292 [01:04<00:00,  4.50it/s]\n",
            "100% 69/69 [00:04<00:00, 14.43it/s]\n",
            "100% 80/80 [00:07<00:00, 11.01it/s]\n",
            "tensor([0.0050], device='cuda:0'),\ttensor([3.9875e-07], device='cuda:0'): 100% 292/292 [01:04<00:00,  4.52it/s]\n",
            "100% 69/69 [00:06<00:00, 11.15it/s]\n",
            "100% 80/80 [00:05<00:00, 13.41it/s]\n",
            "tensor([0.0048], device='cuda:0'),\ttensor([3.8432e-07], device='cuda:0'): 100% 292/292 [01:04<00:00,  4.54it/s]\n",
            "100% 69/69 [00:05<00:00, 12.72it/s]\n",
            "100% 80/80 [00:05<00:00, 14.37it/s]\n",
            "tensor([0.0047], device='cuda:0'),\ttensor([3.7129e-07], device='cuda:0'): 100% 292/292 [01:04<00:00,  4.51it/s]\n",
            "100% 69/69 [00:04<00:00, 14.35it/s]\n",
            "100% 80/80 [00:06<00:00, 12.40it/s]\n",
            "tensor([0.0045], device='cuda:0'),\ttensor([3.5958e-07], device='cuda:0'): 100% 292/292 [01:04<00:00,  4.52it/s]\n",
            "100% 69/69 [00:04<00:00, 14.10it/s]\n",
            "100% 80/80 [00:06<00:00, 11.60it/s]\n",
            "tensor([0.0044], device='cuda:0'),\ttensor([3.4918e-07], device='cuda:0'): 100% 292/292 [01:04<00:00,  4.55it/s]\n",
            "100% 69/69 [00:05<00:00, 12.09it/s]\n",
            "100% 80/80 [00:05<00:00, 14.11it/s]\n",
            "tensor([0.0043], device='cuda:0'),\ttensor([3.3980e-07], device='cuda:0'): 100% 292/292 [01:04<00:00,  4.55it/s]\n",
            "100% 69/69 [00:04<00:00, 14.21it/s]\n",
            "100% 80/80 [00:07<00:00, 10.48it/s]\n",
            "tensor([0.0042], device='cuda:0'),\ttensor([3.3038e-07], device='cuda:0'): 100% 292/292 [01:03<00:00,  4.58it/s]\n",
            "100% 69/69 [00:05<00:00, 12.65it/s]\n",
            "100% 80/80 [00:06<00:00, 12.66it/s]\n",
            "tensor([0.0041], device='cuda:0'),\ttensor([3.2264e-07], device='cuda:0'): 100% 292/292 [01:03<00:00,  4.61it/s]\n",
            "100% 69/69 [00:05<00:00, 12.05it/s]\n",
            "100% 80/80 [00:05<00:00, 14.41it/s]\n",
            "tensor([0.0040], device='cuda:0'),\ttensor([3.1557e-07], device='cuda:0'): 100% 292/292 [01:03<00:00,  4.62it/s]\n",
            "100% 69/69 [00:04<00:00, 14.55it/s]\n",
            "100% 80/80 [00:06<00:00, 13.12it/s]\n",
            "tensor([0.0040], device='cuda:0'),\ttensor([3.0894e-07], device='cuda:0'): 100% 292/292 [01:03<00:00,  4.62it/s]\n",
            "100% 69/69 [00:05<00:00, 13.50it/s]\n",
            "100% 80/80 [00:08<00:00,  9.14it/s]\n",
            "tensor([0.0039], device='cuda:0'),\ttensor([3.0302e-07], device='cuda:0'): 100% 292/292 [01:02<00:00,  4.66it/s]\n",
            "100% 69/69 [00:05<00:00, 12.06it/s]\n",
            "100% 80/80 [00:06<00:00, 12.81it/s]\n",
            "tensor([0.0038], device='cuda:0'),\ttensor([2.9773e-07], device='cuda:0'): 100% 292/292 [01:02<00:00,  4.70it/s]\n",
            "100% 69/69 [00:06<00:00, 10.46it/s]\n",
            "100% 80/80 [00:05<00:00, 14.32it/s]\n",
            "tensor([0.0038], device='cuda:0'),\ttensor([2.9208e-07], device='cuda:0'): 100% 292/292 [01:02<00:00,  4.71it/s]\n",
            "100% 69/69 [00:05<00:00, 12.71it/s]\n",
            "100% 80/80 [00:05<00:00, 14.51it/s]\n",
            "tensor([0.0037], device='cuda:0'),\ttensor([2.8803e-07], device='cuda:0'): 100% 292/292 [01:01<00:00,  4.71it/s]\n",
            "100% 69/69 [00:05<00:00, 13.69it/s]\n",
            "100% 80/80 [00:05<00:00, 14.13it/s]\n",
            "tensor([0.0037], device='cuda:0'),\ttensor([2.8400e-07], device='cuda:0'): 100% 292/292 [01:02<00:00,  4.70it/s]\n",
            "100% 69/69 [00:04<00:00, 14.29it/s]\n",
            "100% 80/80 [00:06<00:00, 11.84it/s]\n",
            "tensor([0.0036], device='cuda:0'),\ttensor([2.7969e-07], device='cuda:0'): 100% 292/292 [01:01<00:00,  4.74it/s]\n",
            "100% 69/69 [00:04<00:00, 14.39it/s]\n",
            "100% 80/80 [00:07<00:00, 10.24it/s]\n",
            "tensor([0.0036], device='cuda:0'),\ttensor([2.7649e-07], device='cuda:0'): 100% 292/292 [01:01<00:00,  4.77it/s]\n",
            "100% 69/69 [00:04<00:00, 14.51it/s]\n",
            "100% 80/80 [00:07<00:00, 10.91it/s]\n",
            "tensor([0.0035], device='cuda:0'),\ttensor([2.7307e-07], device='cuda:0'): 100% 292/292 [01:01<00:00,  4.77it/s]\n",
            "100% 69/69 [00:05<00:00, 13.44it/s]\n",
            "100% 80/80 [00:06<00:00, 11.89it/s]\n",
            "tensor([0.0035], device='cuda:0'),\ttensor([2.7035e-07], device='cuda:0'): 100% 292/292 [01:00<00:00,  4.82it/s]\n",
            "100% 69/69 [00:06<00:00, 10.97it/s]\n",
            "100% 80/80 [00:06<00:00, 11.95it/s]\n",
            "\u001b[34m\u001b[1mwandb\u001b[0m:                                                                                \n",
            "\u001b[34m\u001b[1mwandb\u001b[0m: \n",
            "\u001b[34m\u001b[1mwandb\u001b[0m: Run history:\n",
            "\u001b[34m\u001b[1mwandb\u001b[0m:   epoch_time ▃▇█▇▅▆▂▂▄▃▄▄▄▅▅▇▆▇▇▇▇████▇▇▇▇▇▆▅▅▄▃▃▃▃▂▁\n",
            "\u001b[34m\u001b[1mwandb\u001b[0m:    eval_time ▆▃█▅▂▄▄▄▂▁▁▃▂▁▂▄▁▄▂▁▁▁▃▂▄▂▁▃▁▄▂▁▆▂▁▁▃▅▄▃\n",
            "\u001b[34m\u001b[1mwandb\u001b[0m:    grad_norm █▄▃▃▂▂▂▂▂▁▁▁▁▁▁▁▁▁▁▁▁▁▁▁▁▁▁▁▁▁▁▁▁▁▁▁▁▁▁▁\n",
            "\u001b[34m\u001b[1mwandb\u001b[0m:           lr ██▇▇▆▆▅▅▄▄▄▄▃▃▃▃▃▂▂▂▂▂▂▂▂▂▂▁▁▁▁▁▁▁▁▁▁▁▁▁\n",
            "\u001b[34m\u001b[1mwandb\u001b[0m:    reg_coeff █▅▄▃▂▁▁▁▁▁▁▁▁▁▁▁▁▁▁▁▁▁▁▁▁▁▁▁▁▁▁▁▁▁▁▁▁▁▁▁\n",
            "\u001b[34m\u001b[1mwandb\u001b[0m:  test_hits@1 ▁▂▂▃▄▄▄▄▄▄▄▄▄▄▄▅▅▅▆▆▆▆▆▇▇▇▇▇▇▇▇█████████\n",
            "\u001b[34m\u001b[1mwandb\u001b[0m: test_hits@10 ▁▂▂▃▃▃▄▄▄▄▄▄▅▅▅▅▆▆▆▆▇▇▇▇▇▇▇▇▇███████████\n",
            "\u001b[34m\u001b[1mwandb\u001b[0m:  test_hits@3 ▁▂▂▃▄▄▄▄▄▄▄▄▄▅▅▅▅▆▆▆▇▇▇▇▇▇▇█████████████\n",
            "\u001b[34m\u001b[1mwandb\u001b[0m:    test_loss █▆▄▄▃▃▃▃▂▂▂▂▂▂▂▂▂▂▂▁▁▁▁▁▁▁▁▁▁▁▁▁▁▁▁▁▁▁▁▁\n",
            "\u001b[34m\u001b[1mwandb\u001b[0m:     test_mrr ▁▂▂▃▃▄▄▄▄▄▄▄▅▅▅▅▆▆▆▆▆▇▇▇▇▇▇▇▇▇██████████\n",
            "\u001b[34m\u001b[1mwandb\u001b[0m:   train_loss █▃▃▂▂▂▁▁▁▁▁▁▁▁▁▁▁▁▁▁▁▁▁▁▁▁▁▁▁▁▁▁▁▁▁▁▁▁▁▁\n",
            "\u001b[34m\u001b[1mwandb\u001b[0m:   val_hits@1 ▁▂▂▃▄▄▄▄▄▄▄▄▄▄▄▅▅▅▆▆▆▆▆▇▇▇▇▇▇▇▇▇████████\n",
            "\u001b[34m\u001b[1mwandb\u001b[0m:  val_hits@10 ▁▂▂▃▃▃▄▄▄▄▄▄▅▅▅▅▆▆▆▆▇▇▇▇▇▇▇▇▇▇▇▇████████\n",
            "\u001b[34m\u001b[1mwandb\u001b[0m:   val_hits@3 ▁▂▂▃▄▄▄▄▄▄▄▄▅▅▅▅▆▆▆▆▇▇▇▇▇▇▇▇████████████\n",
            "\u001b[34m\u001b[1mwandb\u001b[0m:     val_loss █▆▅▄▃▃▃▃▂▂▂▂▂▂▂▂▂▂▂▁▁▁▁▁▁▁▁▁▁▁▁▁▁▁▁▁▁▁▁▁\n",
            "\u001b[34m\u001b[1mwandb\u001b[0m:      val_mrr ▁▂▂▃▃▄▄▄▄▄▄▄▅▅▅▅▆▆▆▆▇▇▇▇▇▇▇▇▇▇██████████\n",
            "\u001b[34m\u001b[1mwandb\u001b[0m: \n",
            "\u001b[34m\u001b[1mwandb\u001b[0m: Run summary:\n",
            "\u001b[34m\u001b[1mwandb\u001b[0m:   epoch_time 60.58008\n",
            "\u001b[34m\u001b[1mwandb\u001b[0m:    eval_time 6.69579\n",
            "\u001b[34m\u001b[1mwandb\u001b[0m:    grad_norm 0.0\n",
            "\u001b[34m\u001b[1mwandb\u001b[0m:           lr 62.3896\n",
            "\u001b[34m\u001b[1mwandb\u001b[0m:    reg_coeff 0.0\n",
            "\u001b[34m\u001b[1mwandb\u001b[0m:  test_hits@1 0.04847\n",
            "\u001b[34m\u001b[1mwandb\u001b[0m: test_hits@10 0.21426\n",
            "\u001b[34m\u001b[1mwandb\u001b[0m:  test_hits@3 0.10356\n",
            "\u001b[34m\u001b[1mwandb\u001b[0m:    test_loss 0.04151\n",
            "\u001b[34m\u001b[1mwandb\u001b[0m:     test_mrr 0.10086\n",
            "\u001b[34m\u001b[1mwandb\u001b[0m:   train_loss 0.00349\n",
            "\u001b[34m\u001b[1mwandb\u001b[0m:   val_hits@1 0.04713\n",
            "\u001b[34m\u001b[1mwandb\u001b[0m:  val_hits@10 0.21397\n",
            "\u001b[34m\u001b[1mwandb\u001b[0m:   val_hits@3 0.10208\n",
            "\u001b[34m\u001b[1mwandb\u001b[0m:     val_loss 0.04106\n",
            "\u001b[34m\u001b[1mwandb\u001b[0m:      val_mrr 0.09949\n",
            "\u001b[34m\u001b[1mwandb\u001b[0m: \n",
            "\u001b[34m\u001b[1mwandb\u001b[0m: 🚀 View run \u001b[33m(200, 20) 10, 5 tune\u001b[0m at: \u001b[34m\u001b[4mhttps://wandb.ai/themathstudent/GraphCompletion/runs/ryekxk1y\u001b[0m\n",
            "\u001b[34m\u001b[1mwandb\u001b[0m: Synced 5 W&B file(s), 0 media file(s), 0 artifact file(s) and 0 other file(s)\n",
            "\u001b[34m\u001b[1mwandb\u001b[0m: Find logs at: \u001b[35m\u001b[1m/tmp/wandb/run-20231218_182342-ryekxk1y/logs\u001b[0m\n",
            "Final loss value:\ttensor([0.0415], device='cuda:0')\n",
            "Final mrr value:\t0.10086143968578985\n",
            "Final hits@1 value:\t0.048470634222613114\n",
            "Final hits@3 value:\t0.10356200527704486\n",
            "Final hits@10 value:\t0.21425779341346624\n"
          ]
        }
      ]
    }
  ]
}